{
 "cells": [
  {
   "cell_type": "code",
   "execution_count": 2,
   "metadata": {},
   "outputs": [],
   "source": [
    "import numpy as np"
   ]
  },
  {
   "cell_type": "code",
   "execution_count": 24,
   "metadata": {},
   "outputs": [
    {
     "name": "stdout",
     "output_type": "stream",
     "text": [
      "[[17 23 32]\n",
      " [49 67 92]\n",
      " [27 37 52]]\n"
     ]
    }
   ],
   "source": [
    "#  Write a NumPy program to compute the multiplication of two given matrixes. \n",
    "a = np.array ([[1,2,3],\n",
    "              [5,6,7],\n",
    "              [2,3,5]])\n",
    "b = np.array ([[1,2,3],\n",
    "              [5,6,7],\n",
    "              [2,3,5]])\n",
    "# dot product specifies the matrix multiplication\n",
    "print(np.dot(a,b))"
   ]
  },
  {
   "cell_type": "code",
   "execution_count": 25,
   "metadata": {},
   "outputs": [
    {
     "name": "stdout",
     "output_type": "stream",
     "text": [
      "[[ 6  7  8  9]\n",
      " [12 14 16 18]\n",
      " [18 21 24 27]\n",
      " [24 28 32 36]]\n"
     ]
    }
   ],
   "source": [
    "#Write a NumPy program to compute the outer product of two given vectors.\n",
    "v1 = np.array([[1],\n",
    "              [2],\n",
    "              [3],\n",
    "              [4]])\n",
    "v2 = np.array([[6],\n",
    "              [7],\n",
    "              [8],\n",
    "              [9]])\n",
    "\n",
    "print(np.outer(v1,v2))\n"
   ]
  },
  {
   "cell_type": "code",
   "execution_count": 26,
   "metadata": {},
   "outputs": [
    {
     "name": "stdout",
     "output_type": "stream",
     "text": [
      "[-17  -1  11]\n"
     ]
    }
   ],
   "source": [
    "#Write a NumPy program to compute the cross product of two given vectors.\n",
    "v1 = np.array([2,-1,3])\n",
    "v2 = np.array([3,4,5])\n",
    "\n",
    "print(np.cross(v1,v2))"
   ]
  },
  {
   "cell_type": "code",
   "execution_count": 29,
   "metadata": {},
   "outputs": [
    {
     "name": "stdout",
     "output_type": "stream",
     "text": [
      "2.0\n"
     ]
    }
   ],
   "source": [
    "#Write a NumPy program to compute the determinant of a given square array.\n",
    "mat1 = np.array([[4,2],\n",
    "                [1,1]])\n",
    "print(np.linalg.det(mat1))"
   ]
  },
  {
   "cell_type": "code",
   "execution_count": 45,
   "metadata": {},
   "outputs": [
    {
     "name": "stdout",
     "output_type": "stream",
     "text": [
      "[ 0 22 76]\n",
      "[ 0 22 76]\n"
     ]
    }
   ],
   "source": [
    "#Write a NumPy program to evaluate Einstein's summation convention of two given multidimensional arrays. \n",
    "a = np.array([0,1,2])\n",
    "b = np.array([[0,1,2,3],\n",
    "             [4,5,6,7],\n",
    "             [8,9,10,11]])\n",
    "print((a[:,np.newaxis]*b).sum(axis=1))\n",
    "print(np.einsum('i,ij->i',a,b))"
   ]
  },
  {
   "cell_type": "code",
   "execution_count": 52,
   "metadata": {},
   "outputs": [
    {
     "name": "stdout",
     "output_type": "stream",
     "text": [
      "[[[0 1 0]\n",
      "  [1 1 0]\n",
      "  [1 1 1]]\n",
      "\n",
      " [[0 2 0]\n",
      "  [2 2 0]\n",
      "  [2 2 2]]\n",
      "\n",
      " [[0 5 0]\n",
      "  [5 5 0]\n",
      "  [5 5 5]]]\n",
      "[[ 2  3  1]\n",
      " [ 4  6  2]\n",
      " [10 15  5]]\n",
      "24\n"
     ]
    }
   ],
   "source": [
    "A = np.array([[1, 1, 1],\n",
    "           [2, 2, 2],\n",
    "           [5, 5, 5]])\n",
    "\n",
    "B = np.array([[0, 1, 0],\n",
    "           [1, 1, 0],\n",
    "           [1, 1, 1]])\n",
    "print(np.einsum('ij,jk->ijk',A,B))\n",
    "print(np.einsum('ij,jk->ik',A,B))\n",
    "print(np.einsum('ij->',A))"
   ]
  },
  {
   "cell_type": "code",
   "execution_count": 53,
   "metadata": {},
   "outputs": [
    {
     "name": "stdout",
     "output_type": "stream",
     "text": [
      "32\n"
     ]
    }
   ],
   "source": [
    "#Write a NumPy program to compute the inner product of vectors for 1-D arrays (without complex conjugation) and in higher dimension.\n",
    "a = np.array([6,5])   #this is vector a\n",
    "b = np.array([2,4]) # this is vector b\n",
    "print(np.inner(a,b))"
   ]
  },
  {
   "cell_type": "code",
   "execution_count": 56,
   "metadata": {},
   "outputs": [
    {
     "name": "stdout",
     "output_type": "stream",
     "text": [
      "(array([1.+1.j, 1.-1.j]), array([[0.70710678+0.j        , 0.70710678-0.j        ],\n",
      "       [0.        -0.70710678j, 0.        +0.70710678j]]))\n"
     ]
    }
   ],
   "source": [
    "#7. Write a NumPy program to compute the eigenvalues and right eigenvectors of a given square array.\n",
    "from numpy import linalg as la\n",
    "a = np.array (([[1, -1], [1, 1]]))\n",
    "print(la.eig(a))\n",
    "#here first matrix is eigen value and another is eigen vector\n"
   ]
  },
  {
   "cell_type": "code",
   "execution_count": 58,
   "metadata": {},
   "outputs": [
    {
     "name": "stdout",
     "output_type": "stream",
     "text": [
      "[[ 0  5  0 10]\n",
      " [ 6  7 12 14]\n",
      " [ 0 15  0 20]\n",
      " [18 21 24 28]]\n"
     ]
    }
   ],
   "source": [
    "#8. Write a NumPy program to compute the Kronecker product of two given mulitdimension arrays.\n",
    "a = np.array([[1,2],\n",
    "             [3,4]])\n",
    "b = np.array([[0,5],\n",
    "             [6,7]])\n",
    "print(np.kron(a,b))"
   ]
  },
  {
   "cell_type": "code",
   "execution_count": 66,
   "metadata": {},
   "outputs": [
    {
     "name": "stdout",
     "output_type": "stream",
     "text": [
      "14.933034373659268\n",
      "[[-2.   1. ]\n",
      " [ 1.5 -0.5]]\n"
     ]
    }
   ],
   "source": [
    "# 9. Write a NumPy program to compute the condition number of a given matrix. \n",
    "from numpy import linalg as la\n",
    "a = np.array([[1,2],\n",
    "             [3,4]])\n",
    "print(la.cond(a))\n",
    "print(la.inv(a))"
   ]
  },
  {
   "cell_type": "code",
   "execution_count": 67,
   "metadata": {},
   "outputs": [
    {
     "name": "stdout",
     "output_type": "stream",
     "text": [
      "5.477225575051661\n"
     ]
    }
   ],
   "source": [
    "# Write a NumPy program to find a matrix or vector norm.\n",
    "a = np.array([[1,2],\n",
    "             [3,4]])\n",
    "print(la.norm(a))"
   ]
  },
  {
   "cell_type": "code",
   "execution_count": 68,
   "metadata": {},
   "outputs": [
    {
     "name": "stdout",
     "output_type": "stream",
     "text": [
      "[[-2.   1. ]\n",
      " [ 1.5 -0.5]]\n"
     ]
    }
   ],
   "source": [
    "#Write a NumPy program to compute the inverse of a given matrix. \n",
    "a = np.array([[1,2],\n",
    "             [3,4]])\n",
    "print(la.inv(a))"
   ]
  },
  {
   "cell_type": "code",
   "execution_count": 70,
   "metadata": {},
   "outputs": [
    {
     "name": "stdout",
     "output_type": "stream",
     "text": [
      "13.0\n"
     ]
    }
   ],
   "source": [
    "#Write a NumPy program to compute the determinant of an array.\n",
    "a = np.array([[4,1],\n",
    "             [3,4]])\n",
    "print(la.det(a))\n"
   ]
  },
  {
   "cell_type": "code",
   "execution_count": 71,
   "metadata": {},
   "outputs": [
    {
     "name": "stdout",
     "output_type": "stream",
     "text": [
      "Original matrix\n",
      "[[1 2]\n",
      " [2 3]]\n",
      "QR decomposition \n",
      "(array([[-0.4472136 , -0.89442719],\n",
      "       [-0.89442719,  0.4472136 ]]), array([[-2.23606798, -3.57770876],\n",
      "       [ 0.        , -0.4472136 ]]))\n"
     ]
    }
   ],
   "source": [
    "#Write QR decomposition of a matrix\n",
    "m = np.array([[1,2],\n",
    "            [2,3]])\n",
    "print(\"Original matrix\")\n",
    "print(m)\n",
    "print(\"QR decomposition \")\n",
    "print(la.qr(m))"
   ]
  },
  {
   "cell_type": "code",
   "execution_count": 3,
   "metadata": {},
   "outputs": [
    {
     "name": "stdout",
     "output_type": "stream",
     "text": [
      "Original Matrix\n",
      "[[1 0 0]\n",
      " [0 1 0]\n",
      " [0 0 1]]\n",
      "Diagonal elements\n",
      "[1 1 1]\n",
      "Sum of diagonal\n",
      "3\n",
      "Use Trace \n",
      "3\n"
     ]
    }
   ],
   "source": [
    "# Write numpy program for sum of diagonal elements \n",
    "mat1 = np.array([[1,0,0],\n",
    "                [0,1,0],\n",
    "                 [0,0,1]])\n",
    "print(\"Original Matrix\")\n",
    "print(mat1)\n",
    "print(\"Diagonal elements\")\n",
    "print(mat1.diagonal())\n",
    "print(\"Sum of diagonal\")\n",
    "print(mat1.diagonal().sum())\n",
    "print(\"Use Trace \")\n",
    "print(np.trace(mat1))"
   ]
  },
  {
   "cell_type": "code",
   "execution_count": null,
   "metadata": {},
   "outputs": [],
   "source": []
  },
  {
   "cell_type": "code",
   "execution_count": null,
   "metadata": {},
   "outputs": [],
   "source": []
  }
 ],
 "metadata": {
  "kernelspec": {
   "display_name": "Python 3",
   "language": "python",
   "name": "python3"
  },
  "language_info": {
   "codemirror_mode": {
    "name": "ipython",
    "version": 3
   },
   "file_extension": ".py",
   "mimetype": "text/x-python",
   "name": "python",
   "nbconvert_exporter": "python",
   "pygments_lexer": "ipython3",
   "version": "3.8.3"
  }
 },
 "nbformat": 4,
 "nbformat_minor": 4
}
