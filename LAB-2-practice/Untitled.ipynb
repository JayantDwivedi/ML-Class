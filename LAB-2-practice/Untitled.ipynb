{
 "cells": [
  {
   "cell_type": "code",
   "execution_count": 1,
   "metadata": {},
   "outputs": [],
   "source": [
    "import numpy as np\n",
    "import pandas as pd\n",
    "import matplotlib.pyplot as plt"
   ]
  },
  {
   "cell_type": "code",
   "execution_count": 3,
   "metadata": {},
   "outputs": [
    {
     "data": {
      "text/html": [
       "<div>\n",
       "<style scoped>\n",
       "    .dataframe tbody tr th:only-of-type {\n",
       "        vertical-align: middle;\n",
       "    }\n",
       "\n",
       "    .dataframe tbody tr th {\n",
       "        vertical-align: top;\n",
       "    }\n",
       "\n",
       "    .dataframe thead th {\n",
       "        text-align: right;\n",
       "    }\n",
       "</style>\n",
       "<table border=\"1\" class=\"dataframe\">\n",
       "  <thead>\n",
       "    <tr style=\"text-align: right;\">\n",
       "      <th></th>\n",
       "      <th></th>\n",
       "      <th>FIPS</th>\n",
       "      <th>Met Objective of 45.5? (1)</th>\n",
       "      <th>Age-Adjusted Death Rate</th>\n",
       "      <th>Lower 95% Confidence Interval for Death Rate</th>\n",
       "      <th>Upper 95% Confidence Interval for Death Rate</th>\n",
       "      <th>Average Deaths per Year</th>\n",
       "      <th>Recent Trend (2)</th>\n",
       "      <th>Recent 5-Year Trend (2) in Death Rates</th>\n",
       "      <th>Lower 95% Confidence Interval for Trend</th>\n",
       "      <th>Upper 95% Confidence Interval for Trend</th>\n",
       "    </tr>\n",
       "  </thead>\n",
       "  <tbody>\n",
       "    <tr>\n",
       "      <th>0</th>\n",
       "      <td>United States</td>\n",
       "      <td>0</td>\n",
       "      <td>No</td>\n",
       "      <td>46.0</td>\n",
       "      <td>45.9</td>\n",
       "      <td>46.1</td>\n",
       "      <td>1,57,376</td>\n",
       "      <td>falling</td>\n",
       "      <td>-2.4</td>\n",
       "      <td>-2.6</td>\n",
       "      <td>-2.2</td>\n",
       "    </tr>\n",
       "    <tr>\n",
       "      <th>1</th>\n",
       "      <td>Perry County, Kentucky</td>\n",
       "      <td>21193</td>\n",
       "      <td>No</td>\n",
       "      <td>125.6</td>\n",
       "      <td>108.9</td>\n",
       "      <td>144.2</td>\n",
       "      <td>43</td>\n",
       "      <td>stable</td>\n",
       "      <td>-0.6</td>\n",
       "      <td>-2.7</td>\n",
       "      <td>1.6</td>\n",
       "    </tr>\n",
       "    <tr>\n",
       "      <th>2</th>\n",
       "      <td>Powell County, Kentucky</td>\n",
       "      <td>21197</td>\n",
       "      <td>No</td>\n",
       "      <td>125.3</td>\n",
       "      <td>100.2</td>\n",
       "      <td>155.1</td>\n",
       "      <td>18</td>\n",
       "      <td>stable</td>\n",
       "      <td>1.7</td>\n",
       "      <td>0.0</td>\n",
       "      <td>3.4</td>\n",
       "    </tr>\n",
       "    <tr>\n",
       "      <th>3</th>\n",
       "      <td>North Slope Borough, Alaska</td>\n",
       "      <td>2185</td>\n",
       "      <td>No</td>\n",
       "      <td>124.9</td>\n",
       "      <td>73.0</td>\n",
       "      <td>194.7</td>\n",
       "      <td>5</td>\n",
       "      <td>0</td>\n",
       "      <td>0.0</td>\n",
       "      <td>0.0</td>\n",
       "      <td>0.0</td>\n",
       "    </tr>\n",
       "    <tr>\n",
       "      <th>4</th>\n",
       "      <td>Owsley County, Kentucky</td>\n",
       "      <td>21189</td>\n",
       "      <td>No</td>\n",
       "      <td>118.5</td>\n",
       "      <td>83.1</td>\n",
       "      <td>165.5</td>\n",
       "      <td>8</td>\n",
       "      <td>stable</td>\n",
       "      <td>2.2</td>\n",
       "      <td>-0.4</td>\n",
       "      <td>4.8</td>\n",
       "    </tr>\n",
       "    <tr>\n",
       "      <th>...</th>\n",
       "      <td>...</td>\n",
       "      <td>...</td>\n",
       "      <td>...</td>\n",
       "      <td>...</td>\n",
       "      <td>...</td>\n",
       "      <td>...</td>\n",
       "      <td>...</td>\n",
       "      <td>...</td>\n",
       "      <td>...</td>\n",
       "      <td>...</td>\n",
       "      <td>...</td>\n",
       "    </tr>\n",
       "    <tr>\n",
       "      <th>3136</th>\n",
       "      <td>Yakutat City and Borough, Alaska&lt;sup&gt;3&lt;/sup&gt;</td>\n",
       "      <td>2282</td>\n",
       "      <td>0</td>\n",
       "      <td>0.0</td>\n",
       "      <td>0.0</td>\n",
       "      <td>0.0</td>\n",
       "      <td>0</td>\n",
       "      <td>0</td>\n",
       "      <td>0.0</td>\n",
       "      <td>0.0</td>\n",
       "      <td>0.0</td>\n",
       "    </tr>\n",
       "    <tr>\n",
       "      <th>3137</th>\n",
       "      <td>Yukon-Koyukuk Census Area, Alaska</td>\n",
       "      <td>2290</td>\n",
       "      <td>0</td>\n",
       "      <td>0.0</td>\n",
       "      <td>0.0</td>\n",
       "      <td>0.0</td>\n",
       "      <td>0</td>\n",
       "      <td>0</td>\n",
       "      <td>0.0</td>\n",
       "      <td>0.0</td>\n",
       "      <td>0.0</td>\n",
       "    </tr>\n",
       "    <tr>\n",
       "      <th>3138</th>\n",
       "      <td>Zapata County, Texas</td>\n",
       "      <td>48505</td>\n",
       "      <td>0</td>\n",
       "      <td>0.0</td>\n",
       "      <td>0.0</td>\n",
       "      <td>0.0</td>\n",
       "      <td>0</td>\n",
       "      <td>0</td>\n",
       "      <td>0.0</td>\n",
       "      <td>0.0</td>\n",
       "      <td>0.0</td>\n",
       "    </tr>\n",
       "    <tr>\n",
       "      <th>3139</th>\n",
       "      <td>Zavala County, Texas</td>\n",
       "      <td>48507</td>\n",
       "      <td>0</td>\n",
       "      <td>0.0</td>\n",
       "      <td>0.0</td>\n",
       "      <td>0.0</td>\n",
       "      <td>0</td>\n",
       "      <td>0</td>\n",
       "      <td>0.0</td>\n",
       "      <td>0.0</td>\n",
       "      <td>0.0</td>\n",
       "    </tr>\n",
       "    <tr>\n",
       "      <th>3140</th>\n",
       "      <td>Ziebach County, South Dakota</td>\n",
       "      <td>46137</td>\n",
       "      <td>0</td>\n",
       "      <td>0.0</td>\n",
       "      <td>0.0</td>\n",
       "      <td>0.0</td>\n",
       "      <td>0</td>\n",
       "      <td>0</td>\n",
       "      <td>0.0</td>\n",
       "      <td>0.0</td>\n",
       "      <td>0.0</td>\n",
       "    </tr>\n",
       "  </tbody>\n",
       "</table>\n",
       "<p>3141 rows × 11 columns</p>\n",
       "</div>"
      ],
      "text/plain": [
       "                                                     FIPS  \\\n",
       "0                                    United States      0   \n",
       "1                           Perry County, Kentucky  21193   \n",
       "2                          Powell County, Kentucky  21197   \n",
       "3                      North Slope Borough, Alaska   2185   \n",
       "4                          Owsley County, Kentucky  21189   \n",
       "...                                            ...    ...   \n",
       "3136  Yakutat City and Borough, Alaska<sup>3</sup>   2282   \n",
       "3137             Yukon-Koyukuk Census Area, Alaska   2290   \n",
       "3138                          Zapata County, Texas  48505   \n",
       "3139                          Zavala County, Texas  48507   \n",
       "3140                  Ziebach County, South Dakota  46137   \n",
       "\n",
       "     Met Objective of 45.5? (1)  Age-Adjusted Death Rate  \\\n",
       "0                            No                     46.0   \n",
       "1                            No                    125.6   \n",
       "2                            No                    125.3   \n",
       "3                            No                    124.9   \n",
       "4                            No                    118.5   \n",
       "...                         ...                      ...   \n",
       "3136                          0                      0.0   \n",
       "3137                          0                      0.0   \n",
       "3138                          0                      0.0   \n",
       "3139                          0                      0.0   \n",
       "3140                          0                      0.0   \n",
       "\n",
       "      Lower 95% Confidence Interval for Death Rate  \\\n",
       "0                                             45.9   \n",
       "1                                            108.9   \n",
       "2                                            100.2   \n",
       "3                                             73.0   \n",
       "4                                             83.1   \n",
       "...                                            ...   \n",
       "3136                                           0.0   \n",
       "3137                                           0.0   \n",
       "3138                                           0.0   \n",
       "3139                                           0.0   \n",
       "3140                                           0.0   \n",
       "\n",
       "      Upper 95% Confidence Interval for Death Rate Average Deaths per Year  \\\n",
       "0                                             46.1                1,57,376   \n",
       "1                                            144.2                      43   \n",
       "2                                            155.1                      18   \n",
       "3                                            194.7                       5   \n",
       "4                                            165.5                       8   \n",
       "...                                            ...                     ...   \n",
       "3136                                           0.0                       0   \n",
       "3137                                           0.0                       0   \n",
       "3138                                           0.0                       0   \n",
       "3139                                           0.0                       0   \n",
       "3140                                           0.0                       0   \n",
       "\n",
       "     Recent Trend (2)  Recent 5-Year Trend (2) in Death Rates  \\\n",
       "0             falling                                    -2.4   \n",
       "1              stable                                    -0.6   \n",
       "2              stable                                     1.7   \n",
       "3                   0                                     0.0   \n",
       "4              stable                                     2.2   \n",
       "...               ...                                     ...   \n",
       "3136                0                                     0.0   \n",
       "3137                0                                     0.0   \n",
       "3138                0                                     0.0   \n",
       "3139                0                                     0.0   \n",
       "3140                0                                     0.0   \n",
       "\n",
       "      Lower 95% Confidence Interval for Trend  \\\n",
       "0                                        -2.6   \n",
       "1                                        -2.7   \n",
       "2                                         0.0   \n",
       "3                                         0.0   \n",
       "4                                        -0.4   \n",
       "...                                       ...   \n",
       "3136                                      0.0   \n",
       "3137                                      0.0   \n",
       "3138                                      0.0   \n",
       "3139                                      0.0   \n",
       "3140                                      0.0   \n",
       "\n",
       "      Upper 95% Confidence Interval for Trend  \n",
       "0                                        -2.2  \n",
       "1                                         1.6  \n",
       "2                                         3.4  \n",
       "3                                         0.0  \n",
       "4                                         4.8  \n",
       "...                                       ...  \n",
       "3136                                      0.0  \n",
       "3137                                      0.0  \n",
       "3138                                      0.0  \n",
       "3139                                      0.0  \n",
       "3140                                      0.0  \n",
       "\n",
       "[3141 rows x 11 columns]"
      ]
     },
     "execution_count": 3,
     "metadata": {},
     "output_type": "execute_result"
    }
   ],
   "source": [
    "# Reading the data from the csv file\n",
    "# input as D and output as E\n",
    "data = pd.read_csv('share.csv')\n",
    "data"
   ]
  },
  {
   "cell_type": "code",
   "execution_count": 4,
   "metadata": {},
   "outputs": [],
   "source": [
    "#collecting x and y  X = data('Head Size (cm^3)').values    Y = data('Brain Weights gm').values\n",
    "X = data['Age-Adjusted Death Rate'].values         # input \n",
    "Y = data['Lower 95% Confidence Interval for Death Rate'].values     # output\n"
   ]
  },
  {
   "cell_type": "code",
   "execution_count": 5,
   "metadata": {},
   "outputs": [
    {
     "name": "stdout",
     "output_type": "stream",
     "text": [
      "X =  [ 46.  125.6 125.3 ...   0.    0.    0. ]\n",
      "Y =  [ 45.9 108.9 100.2 ...   0.    0.    0. ]\n"
     ]
    }
   ],
   "source": [
    "print(\"X = \", X)\n",
    "print(\"Y = \",Y)"
   ]
  },
  {
   "cell_type": "code",
   "execution_count": 6,
   "metadata": {},
   "outputs": [
    {
     "name": "stdout",
     "output_type": "stream",
     "text": [
      "Mean of X  47.63126392868513\n",
      "Mean of Y  38.32626552053486\n"
     ]
    }
   ],
   "source": [
    "# Calculating means of X and Y\n",
    "meanX = np.mean(X)\n",
    "meanY = np.mean(Y)\n",
    "print(\"Mean of X \", meanX)\n",
    "print(\"Mean of Y \", meanY)\n"
   ]
  },
  {
   "cell_type": "code",
   "execution_count": 7,
   "metadata": {},
   "outputs": [
    {
     "name": "stdout",
     "output_type": "stream",
     "text": [
      "Data Length  3141\n"
     ]
    }
   ],
   "source": [
    "n = len(X)\n",
    "print(\"Data Length \", n)"
   ]
  },
  {
   "cell_type": "code",
   "execution_count": 9,
   "metadata": {},
   "outputs": [
    {
     "name": "stdout",
     "output_type": "stream",
     "text": [
      "Value of m  0.8080117216704465\n",
      "Value of c  -0.16035405182145013\n"
     ]
    }
   ],
   "source": [
    "# Apply Liner Regraession Formula\n",
    "numer = 0\n",
    "denom = 0\n",
    "for i in range (n):\n",
    "    numer += (X[i] - meanX) * (Y[i] - meanY)\n",
    "    denom += (X[i] - meanX) ** 2\n",
    "m = numer /denom\n",
    "c = meanY - (m * meanX)\n",
    "print(\"Value of m \", m)\n",
    "print(\"Value of c \", c)\n"
   ]
  },
  {
   "cell_type": "code",
   "execution_count": 29,
   "metadata": {},
   "outputs": [
    {
     "data": {
      "image/png": "[encoded data removed]",
      "text/plain": [
       "<Figure size 432x288 with 1 Axes>"
      ]
     },
     "metadata": {
      "needs_background": "light"
     },
     "output_type": "display_data"
    }
   ],
   "source": [
    "#Plotting Values and Regresssion Line\n",
    "max_x = np.max(X) + 100\n",
    "min_x = np.min(X) - 100\n",
    "\n",
    "# Calculating line values x and y\n",
    "x = np.linspace(min_x, max_x, 1000)\n",
    "y = c + m * x\n",
    "\n",
    "# print(\"x = \",x)\n",
    "# print(\"y = \",y)\n",
    "\n",
    "# Plotting Line\n",
    "plt.plot(x, y, color='black', label='Regression Line')\n",
    "\n",
    "#Plotting Scatter point\n",
    "plt.scatter(X, Y, c='red',label='Scatter plot')\n",
    "\n",
    "plt.xlabel('Age-Adjusted Death Rate')\n",
    "plt.ylabel('Lower 95% Confidence Interval for Death Rate')\n",
    "plt.legend()\n",
    "plt.show()"
   ]
  },
  {
   "cell_type": "code",
   "execution_count": 11,
   "metadata": {},
   "outputs": [
    {
     "name": "stdout",
     "output_type": "stream",
     "text": [
      "RMSE\n",
      "4.564323696834837\n"
     ]
    }
   ],
   "source": [
    "# Calculationg Root Mean Squre Error\n",
    "rmse = 0\n",
    "for i in range(n):\n",
    "    y_pred = c + m * X[i]\n",
    "    rmse += (Y[i] - y_pred) ** 2\n",
    "rmse= np.sqrt(rmse / n)\n",
    "print(\"RMSE\")\n",
    "print(rmse) "
   ]
  },
  {
   "cell_type": "code",
   "execution_count": 13,
   "metadata": {},
   "outputs": [
    {
     "data": {
      "text/html": [
       "<div>\n",
       "<style scoped>\n",
       "    .dataframe tbody tr th:only-of-type {\n",
       "        vertical-align: middle;\n",
       "    }\n",
       "\n",
       "    .dataframe tbody tr th {\n",
       "        vertical-align: top;\n",
       "    }\n",
       "\n",
       "    .dataframe thead th {\n",
       "        text-align: right;\n",
       "    }\n",
       "</style>\n",
       "<table border=\"1\" class=\"dataframe\">\n",
       "  <thead>\n",
       "    <tr style=\"text-align: right;\">\n",
       "      <th></th>\n",
       "      <th></th>\n",
       "      <th>FIPS</th>\n",
       "      <th>Met Objective of 45.5? (1)</th>\n",
       "      <th>Age-Adjusted Death Rate</th>\n",
       "      <th>Lower 95% Confidence Interval for Death Rate</th>\n",
       "      <th>Upper 95% Confidence Interval for Death Rate</th>\n",
       "      <th>Average Deaths per Year</th>\n",
       "      <th>Recent Trend (2)</th>\n",
       "      <th>Recent 5-Year Trend (2) in Death Rates</th>\n",
       "      <th>Lower 95% Confidence Interval for Trend</th>\n",
       "      <th>Upper 95% Confidence Interval for Trend</th>\n",
       "    </tr>\n",
       "  </thead>\n",
       "  <tbody>\n",
       "    <tr>\n",
       "      <th>0</th>\n",
       "      <td>United States</td>\n",
       "      <td>0</td>\n",
       "      <td>No</td>\n",
       "      <td>46.0</td>\n",
       "      <td>45.9</td>\n",
       "      <td>46.1</td>\n",
       "      <td>1,57,376</td>\n",
       "      <td>falling</td>\n",
       "      <td>-2.4</td>\n",
       "      <td>-2.6</td>\n",
       "      <td>-2.2</td>\n",
       "    </tr>\n",
       "    <tr>\n",
       "      <th>1</th>\n",
       "      <td>Perry County, Kentucky</td>\n",
       "      <td>21193</td>\n",
       "      <td>No</td>\n",
       "      <td>125.6</td>\n",
       "      <td>108.9</td>\n",
       "      <td>144.2</td>\n",
       "      <td>43</td>\n",
       "      <td>stable</td>\n",
       "      <td>-0.6</td>\n",
       "      <td>-2.7</td>\n",
       "      <td>1.6</td>\n",
       "    </tr>\n",
       "    <tr>\n",
       "      <th>2</th>\n",
       "      <td>Powell County, Kentucky</td>\n",
       "      <td>21197</td>\n",
       "      <td>No</td>\n",
       "      <td>125.3</td>\n",
       "      <td>100.2</td>\n",
       "      <td>155.1</td>\n",
       "      <td>18</td>\n",
       "      <td>stable</td>\n",
       "      <td>1.7</td>\n",
       "      <td>0.0</td>\n",
       "      <td>3.4</td>\n",
       "    </tr>\n",
       "    <tr>\n",
       "      <th>3</th>\n",
       "      <td>North Slope Borough, Alaska</td>\n",
       "      <td>2185</td>\n",
       "      <td>No</td>\n",
       "      <td>124.9</td>\n",
       "      <td>73.0</td>\n",
       "      <td>194.7</td>\n",
       "      <td>5</td>\n",
       "      <td>0</td>\n",
       "      <td>0.0</td>\n",
       "      <td>0.0</td>\n",
       "      <td>0.0</td>\n",
       "    </tr>\n",
       "    <tr>\n",
       "      <th>4</th>\n",
       "      <td>Owsley County, Kentucky</td>\n",
       "      <td>21189</td>\n",
       "      <td>No</td>\n",
       "      <td>118.5</td>\n",
       "      <td>83.1</td>\n",
       "      <td>165.5</td>\n",
       "      <td>8</td>\n",
       "      <td>stable</td>\n",
       "      <td>2.2</td>\n",
       "      <td>-0.4</td>\n",
       "      <td>4.8</td>\n",
       "    </tr>\n",
       "  </tbody>\n",
       "</table>\n",
       "</div>"
      ],
      "text/plain": [
       "                                 FIPS Met Objective of 45.5? (1)  \\\n",
       "0                United States      0                         No   \n",
       "1       Perry County, Kentucky  21193                         No   \n",
       "2      Powell County, Kentucky  21197                         No   \n",
       "3  North Slope Borough, Alaska   2185                         No   \n",
       "4      Owsley County, Kentucky  21189                         No   \n",
       "\n",
       "   Age-Adjusted Death Rate  Lower 95% Confidence Interval for Death Rate  \\\n",
       "0                     46.0                                          45.9   \n",
       "1                    125.6                                         108.9   \n",
       "2                    125.3                                         100.2   \n",
       "3                    124.9                                          73.0   \n",
       "4                    118.5                                          83.1   \n",
       "\n",
       "   Upper 95% Confidence Interval for Death Rate Average Deaths per Year  \\\n",
       "0                                          46.1                1,57,376   \n",
       "1                                         144.2                      43   \n",
       "2                                         155.1                      18   \n",
       "3                                         194.7                       5   \n",
       "4                                         165.5                       8   \n",
       "\n",
       "  Recent Trend (2)  Recent 5-Year Trend (2) in Death Rates  \\\n",
       "0          falling                                    -2.4   \n",
       "1           stable                                    -0.6   \n",
       "2           stable                                     1.7   \n",
       "3                0                                     0.0   \n",
       "4           stable                                     2.2   \n",
       "\n",
       "   Lower 95% Confidence Interval for Trend  \\\n",
       "0                                     -2.6   \n",
       "1                                     -2.7   \n",
       "2                                      0.0   \n",
       "3                                      0.0   \n",
       "4                                     -0.4   \n",
       "\n",
       "   Upper 95% Confidence Interval for Trend  \n",
       "0                                     -2.2  \n",
       "1                                      1.6  \n",
       "2                                      3.4  \n",
       "3                                      0.0  \n",
       "4                                      4.8  "
      ]
     },
     "execution_count": 13,
     "metadata": {},
     "output_type": "execute_result"
    }
   ],
   "source": [
    "# Case 2nd Where E is X(input) F is Y(Output)\n",
    "\n",
    "data.head()"
   ]
  },
  {
   "cell_type": "code",
   "execution_count": 18,
   "metadata": {},
   "outputs": [
    {
     "name": "stdout",
     "output_type": "stream",
     "text": [
      "X =  [ 45.9 108.9 100.2 ...   0.    0.    0. ]\n",
      "Y =  [ 46.1 144.2 155.1 ...   0.    0.    0. ]\n"
     ]
    }
   ],
   "source": [
    "X = data['Lower 95% Confidence Interval for Death Rate'].values\n",
    "Y = data['Upper 95% Confidence Interval for Death Rate'].values\n",
    "print(\"X = \",X)\n",
    "print(\"Y = \",Y)"
   ]
  },
  {
   "cell_type": "code",
   "execution_count": 19,
   "metadata": {},
   "outputs": [
    {
     "name": "stdout",
     "output_type": "stream",
     "text": [
      "Mean of X  38.32626552053486\n",
      "Mean of Y  59.34928366762177\n"
     ]
    }
   ],
   "source": [
    "meanX = np.mean(X)\n",
    "meanY = np.mean(Y)\n",
    "print(\"Mean of X \",meanX)\n",
    "print(\"Mean of Y \",meanY)"
   ]
  },
  {
   "cell_type": "code",
   "execution_count": 20,
   "metadata": {},
   "outputs": [
    {
     "name": "stdout",
     "output_type": "stream",
     "text": [
      "Data Size  3141\n"
     ]
    }
   ],
   "source": [
    "n = len(X)\n",
    "print(\"Data Size \", n)"
   ]
  },
  {
   "cell_type": "code",
   "execution_count": 21,
   "metadata": {},
   "outputs": [
    {
     "name": "stdout",
     "output_type": "stream",
     "text": [
      "Slope of Line  1.3190124078008678\n",
      "Value of C  8.796463901365705\n"
     ]
    }
   ],
   "source": [
    "num = 0\n",
    "den = 0\n",
    "for i in range (n):\n",
    "    num += (X[i] - meanX) * (Y[i] - meanY)\n",
    "    den += (X[i] - meanX) ** 2\n",
    "m = num / den\n",
    "c = meanY - (m * meanX)\n",
    "print(\"Slope of Line \", m)\n",
    "print(\"Value of C \", c)\n"
   ]
  },
  {
   "cell_type": "code",
   "execution_count": 22,
   "metadata": {},
   "outputs": [
    {
     "data": {
      "image/png": "[encoded data removed]",
      "text/plain": [
       "<Figure size 432x288 with 1 Axes>"
      ]
     },
     "metadata": {
      "needs_background": "light"
     },
     "output_type": "display_data"
    }
   ],
   "source": [
    "max_X = np.max(X) + 100\n",
    "min_X = np.min(X) - 100\n",
    "\n",
    "x = np.linspace(min_X,max_X,1000)\n",
    "y = (m * x) + c\n",
    "\n",
    "plt.plot(x,y, c='black', label='Regression Line')\n",
    "plt.scatter(X,Y, c='orange', label='Scatter Plot')\n",
    "\n",
    "plt.xlabel('Lower 95% Confidence Interval for Death Rate')\n",
    "plt.ylabel('Upper 95% Confidence Interval for Death Rate')\n",
    "\n",
    "plt.legend()\n",
    "plt.show()"
   ]
  },
  {
   "cell_type": "code",
   "execution_count": 24,
   "metadata": {},
   "outputs": [
    {
     "name": "stdout",
     "output_type": "stream",
     "text": [
      "RSME\n",
      "0.0\n"
     ]
    }
   ],
   "source": [
    "rsme = 0\n",
    "for i in range (n):\n",
    "    y_pred = (m * X[i]) + c\n",
    "    rmse += (Y[i] - y_pred) ** 2\n",
    "rsme = np.sqrt(rsme/n)\n",
    "print(\"RSME\")\n",
    "print(rsme)"
   ]
  },
  {
   "cell_type": "code",
   "execution_count": null,
   "metadata": {},
   "outputs": [],
   "source": []
  }
 ],
 "metadata": {
  "kernelspec": {
   "display_name": "Python 3",
   "language": "python",
   "name": "python3"
  },
  "language_info": {
   "codemirror_mode": {
    "name": "ipython",
    "version": 3
   },
   "file_extension": ".py",
   "mimetype": "text/x-python",
   "name": "python",
   "nbconvert_exporter": "python",
   "pygments_lexer": "ipython3",
   "version": "3.8.3"
  }
 },
 "nbformat": 4,
 "nbformat_minor": 4
}
