{
 "cells": [
  {
   "cell_type": "code",
   "execution_count": 1,
   "metadata": {},
   "outputs": [],
   "source": [
    "import numpy as np\n",
    "import matplotlib.pyplot as plt\n",
    "import pandas as pd"
   ]
  },
  {
   "cell_type": "code",
   "execution_count": 3,
   "metadata": {},
   "outputs": [
    {
     "data": {
      "text/html": [
       "<div>\n",
       "<style scoped>\n",
       "    .dataframe tbody tr th:only-of-type {\n",
       "        vertical-align: middle;\n",
       "    }\n",
       "\n",
       "    .dataframe tbody tr th {\n",
       "        vertical-align: top;\n",
       "    }\n",
       "\n",
       "    .dataframe thead th {\n",
       "        text-align: right;\n",
       "    }\n",
       "</style>\n",
       "<table border=\"1\" class=\"dataframe\">\n",
       "  <thead>\n",
       "    <tr style=\"text-align: right;\">\n",
       "      <th></th>\n",
       "      <th></th>\n",
       "      <th>FIPS</th>\n",
       "      <th>Met Objective of 45.5? (1)</th>\n",
       "      <th>Age-Adjusted Death Rate</th>\n",
       "      <th>Lower 95% Confidence Interval for Death Rate</th>\n",
       "      <th>Upper 95% Confidence Interval for Death Rate</th>\n",
       "      <th>Average Deaths per Year</th>\n",
       "      <th>Recent Trend (2)</th>\n",
       "      <th>Recent 5-Year Trend (2) in Death Rates</th>\n",
       "      <th>Lower 95% Confidence Interval for Trend</th>\n",
       "      <th>Upper 95% Confidence Interval for Trend</th>\n",
       "    </tr>\n",
       "  </thead>\n",
       "  <tbody>\n",
       "    <tr>\n",
       "      <th>0</th>\n",
       "      <td>United States</td>\n",
       "      <td>0</td>\n",
       "      <td>No</td>\n",
       "      <td>46.0</td>\n",
       "      <td>45.9</td>\n",
       "      <td>46.1</td>\n",
       "      <td>1,57,376</td>\n",
       "      <td>falling</td>\n",
       "      <td>-2.4</td>\n",
       "      <td>-2.6</td>\n",
       "      <td>-2.2</td>\n",
       "    </tr>\n",
       "    <tr>\n",
       "      <th>1</th>\n",
       "      <td>Perry County, Kentucky</td>\n",
       "      <td>21193</td>\n",
       "      <td>No</td>\n",
       "      <td>125.6</td>\n",
       "      <td>108.9</td>\n",
       "      <td>144.2</td>\n",
       "      <td>43</td>\n",
       "      <td>stable</td>\n",
       "      <td>-0.6</td>\n",
       "      <td>-2.7</td>\n",
       "      <td>1.6</td>\n",
       "    </tr>\n",
       "    <tr>\n",
       "      <th>2</th>\n",
       "      <td>Powell County, Kentucky</td>\n",
       "      <td>21197</td>\n",
       "      <td>No</td>\n",
       "      <td>125.3</td>\n",
       "      <td>100.2</td>\n",
       "      <td>155.1</td>\n",
       "      <td>18</td>\n",
       "      <td>stable</td>\n",
       "      <td>1.7</td>\n",
       "      <td>0.0</td>\n",
       "      <td>3.4</td>\n",
       "    </tr>\n",
       "    <tr>\n",
       "      <th>3</th>\n",
       "      <td>North Slope Borough, Alaska</td>\n",
       "      <td>2185</td>\n",
       "      <td>No</td>\n",
       "      <td>124.9</td>\n",
       "      <td>73.0</td>\n",
       "      <td>194.7</td>\n",
       "      <td>5</td>\n",
       "      <td>0</td>\n",
       "      <td>0.0</td>\n",
       "      <td>0.0</td>\n",
       "      <td>0.0</td>\n",
       "    </tr>\n",
       "    <tr>\n",
       "      <th>4</th>\n",
       "      <td>Owsley County, Kentucky</td>\n",
       "      <td>21189</td>\n",
       "      <td>No</td>\n",
       "      <td>118.5</td>\n",
       "      <td>83.1</td>\n",
       "      <td>165.5</td>\n",
       "      <td>8</td>\n",
       "      <td>stable</td>\n",
       "      <td>2.2</td>\n",
       "      <td>-0.4</td>\n",
       "      <td>4.8</td>\n",
       "    </tr>\n",
       "  </tbody>\n",
       "</table>\n",
       "</div>"
      ],
      "text/plain": [
       "                                 FIPS Met Objective of 45.5? (1)  \\\n",
       "0                United States      0                         No   \n",
       "1       Perry County, Kentucky  21193                         No   \n",
       "2      Powell County, Kentucky  21197                         No   \n",
       "3  North Slope Borough, Alaska   2185                         No   \n",
       "4      Owsley County, Kentucky  21189                         No   \n",
       "\n",
       "   Age-Adjusted Death Rate  Lower 95% Confidence Interval for Death Rate  \\\n",
       "0                     46.0                                          45.9   \n",
       "1                    125.6                                         108.9   \n",
       "2                    125.3                                         100.2   \n",
       "3                    124.9                                          73.0   \n",
       "4                    118.5                                          83.1   \n",
       "\n",
       "   Upper 95% Confidence Interval for Death Rate Average Deaths per Year  \\\n",
       "0                                          46.1                1,57,376   \n",
       "1                                         144.2                      43   \n",
       "2                                         155.1                      18   \n",
       "3                                         194.7                       5   \n",
       "4                                         165.5                       8   \n",
       "\n",
       "  Recent Trend (2)  Recent 5-Year Trend (2) in Death Rates  \\\n",
       "0          falling                                    -2.4   \n",
       "1           stable                                    -0.6   \n",
       "2           stable                                     1.7   \n",
       "3                0                                     0.0   \n",
       "4           stable                                     2.2   \n",
       "\n",
       "   Lower 95% Confidence Interval for Trend  \\\n",
       "0                                     -2.6   \n",
       "1                                     -2.7   \n",
       "2                                      0.0   \n",
       "3                                      0.0   \n",
       "4                                     -0.4   \n",
       "\n",
       "   Upper 95% Confidence Interval for Trend  \n",
       "0                                     -2.2  \n",
       "1                                      1.6  \n",
       "2                                      3.4  \n",
       "3                                      0.0  \n",
       "4                                      4.8  "
      ]
     },
     "execution_count": 3,
     "metadata": {},
     "output_type": "execute_result"
    }
   ],
   "source": [
    "data = pd.read_csv('share.csv')\n",
    "data.head()"
   ]
  },
  {
   "cell_type": "code",
   "execution_count": 5,
   "metadata": {},
   "outputs": [
    {
     "name": "stdout",
     "output_type": "stream",
     "text": [
      "X =  [ 45.9 108.9 100.2 ...   0.    0.    0. ]\n",
      "Y =  [ 46.  125.6 125.3 ...   0.    0.    0. ]\n"
     ]
    }
   ],
   "source": [
    "X = data['Lower 95% Confidence Interval for Death Rate'].values\n",
    "Y = data['Age-Adjusted Death Rate'].values\n",
    "print(\"X = \", X)\n",
    "print(\"Y = \", Y)"
   ]
  },
  {
   "cell_type": "code",
   "execution_count": 8,
   "metadata": {},
   "outputs": [
    {
     "name": "stdout",
     "output_type": "stream",
     "text": [
      "Size of dataset 3141\n"
     ]
    }
   ],
   "source": [
    "n = len(X)\n",
    "print(\"Size of dataset\", n)"
   ]
  },
  {
   "cell_type": "code",
   "execution_count": 9,
   "metadata": {},
   "outputs": [
    {
     "name": "stdout",
     "output_type": "stream",
     "text": [
      "Mean of X  38.32626552053486\n",
      "Mean of Y  47.63126392868513\n"
     ]
    }
   ],
   "source": [
    "meanX = np.mean(X)\n",
    "meanY = np.mean(Y)\n",
    "print(\"Mean of X \",meanX)\n",
    "print(\"Mean of Y \",meanY)\n"
   ]
  },
  {
   "cell_type": "code",
   "execution_count": 16,
   "metadata": {},
   "outputs": [
    {
     "name": "stdout",
     "output_type": "stream",
     "text": [
      "Slope m =  1.154074535778231\n",
      "Constant c =  3.3998968399606397\n"
     ]
    }
   ],
   "source": [
    "num = 0\n",
    "den = 0\n",
    "for i in range (n):\n",
    "    num += (X[i] - meanX) * (Y[i] - meanY)\n",
    "    den += (X[i] - meanX) ** 2\n",
    "m = num / den\n",
    "c = meanY - (m * meanX)\n",
    "print(\"Slope m = \",m)\n",
    "print(\"Constant c = \",c)"
   ]
  },
  {
   "cell_type": "code",
   "execution_count": 22,
   "metadata": {},
   "outputs": [
    {
     "name": "stdout",
     "output_type": "stream",
     "text": [
      "Max of X 208.9\n",
      "Min of X -100.0\n"
     ]
    }
   ],
   "source": [
    "max_X = np.max(X) + 100\n",
    "min_X = np.min(X) - 100\n",
    "\n",
    "print(\"Max of X\", max_X)\n",
    "print(\"Min of X\", min_X)\n",
    "\n",
    "x = np.linspace(min_X,max_X,1000)\n",
    "y = m * x + c\n",
    "\n"
   ]
  },
  {
   "cell_type": "code",
   "execution_count": 26,
   "metadata": {},
   "outputs": [
    {
     "data": {
      "image/png": "[encoded data removed]",
      "text/plain": [
       "<Figure size 432x288 with 1 Axes>"
      ]
     },
     "metadata": {
      "needs_background": "light"
     },
     "output_type": "display_data"
    }
   ],
   "source": [
    "plt.plot(x,y,c='black',label='Regression Line')\n",
    "plt.scatter(X,Y, c='orange', label='Data points')\n",
    "plt.xlabel('Lower 95% Confidence Interval for Death Rate')\n",
    "plt.ylabel('Age-Adjusted Death Rate')\n",
    "plt.legend()\n",
    "plt.show()\n"
   ]
  },
  {
   "cell_type": "code",
   "execution_count": 27,
   "metadata": {},
   "outputs": [
    {
     "name": "stdout",
     "output_type": "stream",
     "text": [
      "Root squre mean error  5.168756612557419e-08\n"
     ]
    }
   ],
   "source": [
    "rsme = 0\n",
    "for i in range (n):\n",
    "    y_pred = (m * X[i]) + c\n",
    "    rsme += (Y[i] - y_pred)\n",
    "rsme = np.sqrt(rsme/n)\n",
    "print(\"Root squre mean error \",rsme)\n",
    "s"
   ]
  },
  {
   "cell_type": "code",
   "execution_count": null,
   "metadata": {},
   "outputs": [],
   "source": []
  }
 ],
 "metadata": {
  "kernelspec": {
   "display_name": "Python 3",
   "language": "python",
   "name": "python3"
  },
  "language_info": {
   "codemirror_mode": {
    "name": "ipython",
    "version": 3
   },
   "file_extension": ".py",
   "mimetype": "text/x-python",
   "name": "python",
   "nbconvert_exporter": "python",
   "pygments_lexer": "ipython3",
   "version": "3.8.3"
  }
 },
 "nbformat": 4,
 "nbformat_minor": 4
}
